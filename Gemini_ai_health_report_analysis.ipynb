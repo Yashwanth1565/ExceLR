{
  "nbformat": 4,
  "nbformat_minor": 0,
  "metadata": {
    "colab": {
      "provenance": [],
      "authorship_tag": "ABX9TyN8nn0vKczrSyXxiGtILHAU",
      "include_colab_link": true
    },
    "kernelspec": {
      "name": "python3",
      "display_name": "Python 3"
    },
    "language_info": {
      "name": "python"
    }
  },
  "cells": [
    {
      "cell_type": "markdown",
      "metadata": {
        "id": "view-in-github",
        "colab_type": "text"
      },
      "source": [
        "<a href=\"https://colab.research.google.com/github/Yashwanth1565/ExceLR/blob/main/Gemini_ai_health_report_analysis.ipynb\" target=\"_parent\"><img src=\"https://colab.research.google.com/assets/colab-badge.svg\" alt=\"Open In Colab\"/></a>"
      ]
    },
    {
      "cell_type": "code",
      "execution_count": 1,
      "metadata": {
        "id": "iL18bgIt-A_F"
      },
      "outputs": [],
      "source": [
        "import google.generativeai as genai\n",
        "from google.colab import userdata\n",
        "\n",
        "GOOGLE_API_KEY=userdata.get('GOOGLE_API_KEY')\n",
        "genai.configure(api_key=GOOGLE_API_KEY)"
      ]
    },
    {
      "cell_type": "code",
      "source": [
        "!pip install PyPDF2"
      ],
      "metadata": {
        "colab": {
          "base_uri": "https://localhost:8080/"
        },
        "id": "8ueEfxsG-HXQ",
        "outputId": "fb9e3b6d-dbdc-4878-b7cf-73098965b454"
      },
      "execution_count": 2,
      "outputs": [
        {
          "output_type": "stream",
          "name": "stdout",
          "text": [
            "Collecting PyPDF2\n",
            "  Downloading pypdf2-3.0.1-py3-none-any.whl.metadata (6.8 kB)\n",
            "Downloading pypdf2-3.0.1-py3-none-any.whl (232 kB)\n",
            "\u001b[?25l   \u001b[90m━━━━━━━━━━━━━━━━━━━━━━━━━━━━━━━━━━━━━━━━\u001b[0m \u001b[32m0.0/232.6 kB\u001b[0m \u001b[31m?\u001b[0m eta \u001b[36m-:--:--\u001b[0m\r\u001b[2K   \u001b[91m━━━━━━━━━━━━━━━━━━━━━━━━━━━━━━━━━\u001b[0m\u001b[90m╺\u001b[0m\u001b[90m━━━━━━\u001b[0m \u001b[32m194.6/232.6 kB\u001b[0m \u001b[31m5.7 MB/s\u001b[0m eta \u001b[36m0:00:01\u001b[0m\r\u001b[2K   \u001b[90m━━━━━━━━━━━━━━━━━━━━━━━━━━━━━━━━━━━━━━━━\u001b[0m \u001b[32m232.6/232.6 kB\u001b[0m \u001b[31m4.7 MB/s\u001b[0m eta \u001b[36m0:00:00\u001b[0m\n",
            "\u001b[?25hInstalling collected packages: PyPDF2\n",
            "Successfully installed PyPDF2-3.0.1\n"
          ]
        }
      ]
    },
    {
      "source": [
        "import PyPDF2\n",
        "def extract_text_from_pdf(pdf_file):\n",
        "    text = \"\"\n",
        "    with open(\"/content/health_report.pdf\", \"rb\") as pdf_file:\n",
        "        pdf_reader = PyPDF2.PdfReader(pdf_file)\n",
        "        # Changed 'reader' to 'pdf_reader' in the loop\n",
        "        for page in pdf_reader.pages:\n",
        "            text += page.extract_text() + \"\\n\"\n",
        "    return text\n",
        "\n",
        "def extract_health_insight(text):\n",
        "  model=genai.GenerativeModel(\"gemini-1.5-flash\")\n",
        "  prompt=f\"Extract key insights form the following health report:\\n\\n{text}\"\n",
        "  response=model.generate_content(prompt)\n",
        "  return response.text\n",
        "pdf_file=\"/content/health_report.pdf\"\n",
        "extracted_text=extract_text_from_pdf(pdf_file)\n",
        "print(extracted_text)\n",
        "insights=extract_health_insight(pdf_file)\n",
        "print(insights)"
      ],
      "cell_type": "code",
      "metadata": {
        "colab": {
          "base_uri": "https://localhost:8080/",
          "height": 1000
        },
        "id": "gwAsmm_1B3eu",
        "outputId": "13b266ec-a2ee-47ad-a03e-bd4bc16eec1e"
      },
      "execution_count": 12,
      "outputs": [
        {
          "output_type": "stream",
          "name": "stdout",
          "text": [
            "INVESTIGATION RESULT UNIT BIOLOGICAL REFERENCE RANGE\n",
            "S.TYPHI \" O \" 1:160 1:20 Dilution\n",
            "S. TYPHI \" H \" 1:80 1:20 Dilution\n",
            "S. PARATYPHI \" AH \" 1:20 1:20 Dilution\n",
            "S.PARATYPHI \" BH \" 1:20 1:20 Dilution\n",
            "N. SARITHA\n",
            "MICROBIOLOGISTPatient Name : MR. KISHAN GOUD MR Number : MR2100003157\n",
            "IP Number : IP2100041193 Ward/Bed : 2C-WARD/C203\n",
            "Mobile : 8019392984 Order Date : 01/02/2021 00:16:47\n",
            "Age/Gender : 56 Y,1 M,3 D  / Male Sample Date : 01/02/2021 00:32:28\n",
            "Doctor : KRISHNA PRASAD Result Status : COMPLETED\n",
            "Sample No : LB-20-026250 Order No : DL-20-026521\n",
            "Company : \n",
            "MICROBIOLOGY and SEROLOGY\n",
            "WIDAL\n",
            "***End of Report***\n",
            "Check ed by :    ARIF\n",
            "INVESTIGATION RESULT UNIT BIOLOGICAL REFERENCE RANGE\n",
            "DENGUE NS1 ANTIGEN NEGA TIVE\n",
            "DENGUE IgG\n",
            "Method: ImmunochromatographyNEGA TIVE\n",
            "DENGUE IgM\n",
            "Method: ImmunochromatographyNEGA TIVE\n",
            "N. SARITHA\n",
            "MICROBIOLOGISTPatient Name : MR. KISHAN GOUD MR Number : MR2100003157\n",
            "IP Number : IP2100041193 Ward/Bed : 2C-WARD/C203\n",
            "Mobile : 8019392984 Order Date : 01/02/2021 00:16:47\n",
            "Age/Gender : 56 Y,1 M,3 D  / Male Sample Date : 01/02/2021 00:32:28\n",
            "Doctor : KRISHNA PRASAD Result Status : COMPLETED\n",
            "Sample No : LB-20-026250 Order No : DL-20-026521\n",
            "Company : \n",
            "MICROBIOLOGY and SEROLOGY\n",
            "DENGUE SEROLOGY - NS1, IgG, IgM\n",
            "***End of Report***\n",
            "Check ed by :    ARIF\n",
            "INVESTIGATION RESULT UNIT BIOLOGICAL REFERENCE RANGE\n",
            "ESR 1st Hour 26 mm/hr 0 - 8\n",
            "ESR 2nd Hour 52 mm/hr\n",
            "MADHAVI R.\n",
            "MD PATHOLOGISTPatient Name : MR. KISHAN GOUD MR Number : MR2100003157\n",
            "IP Number : IP2100041193 Ward/Bed : 2C-WARD/C203\n",
            "Mobile : 8019392984 Order Date : 01/02/2021 00:16:47\n",
            "Age/Gender : 56 Y,1 M,3 D  / Male Sample Date : 01/02/2021 00:32:28\n",
            "Doctor : KRISHNA PRASAD Result Status : COMPLETED\n",
            "Sample No : LB-20-026250 Order No : DL-20-026521\n",
            "Company : \n",
            "HAEMATOLOGY and CL.PATHOLOGY\n",
            "ERYTHROCYTE SEDIMENTATION RATE\n",
            "***End of Report***\n",
            "Check ed by :    ARIF\n",
            "INVESTIGATION RESULT UNIT BIOLOGICAL REFERENCE RANGE\n",
            "RAPID MALARIA TEST P .V NEGA TIVE\n",
            "RAPID MALARIA TEST P .F NEGA TIVE\n",
            "MADHAVI R.\n",
            "MD PATHOLOGISTPatient Name : MR. KISHAN GOUD MR Number : MR2100003157\n",
            "IP Number : IP2100041193 Ward/Bed : 2C-WARD/C203\n",
            "Mobile : 8019392984 Order Date : 01/02/2021 00:16:47\n",
            "Age/Gender : 56 Y,1 M,3 D  / Male Sample Date : 01/02/2021 00:32:28\n",
            "Doctor : KRISHNA PRASAD Result Status : COMPLETED\n",
            "Sample No : LB-20-026250 Order No : DL-20-026521\n",
            "Company : \n",
            "HAEMATOLOGY and CL.PATHOLOGY\n",
            "RAPID MALARIA TEST\n",
            "***End of Report***\n",
            "Check ed by :    ARIF\n",
            "INVESTIGATION RESULT UNIT BIOLOGICAL REFERENCE RANGE\n",
            "HAEMOGL OBIN 13.6 gms% 13 - 17\n",
            "RBC 4.3 mill/cumm 4.5 - 5.5\n",
            "WBC 7,200 cells/cumm 4000 - 10000\n",
            "PLATELET COUNT 2.0 lakhs/cumm 1.5 - 4.5\n",
            "P.C.V 40.5 % 40 - 50\n",
            "DIFFERENTIAL COUNT\n",
            "NEUTROPHILS 59 % 40 - 80\n",
            "LYMPHOCYTES 31 % 20 - 40\n",
            "EOSINOPHILS 04 % 1 - 6\n",
            "MONOCYTES 06 % 2 - 10\n",
            "BASOPHILS 00 % 0 - 2\n",
            "PERIPHERAL BLOOD SMEAR\n",
            "R.B.C NORMOCYTIC\n",
            "/NORMOCHROMIC\n",
            "W.B.C WITH IN NORMAL LIMIT S\n",
            "PLATELET S ADEQU ATE\n",
            "MADHAVI R.\n",
            "MD PATHOLOGISTPatient Name : MR. KISHAN GOUD MR Number : MR2100003157\n",
            "IP Number : IP2100041193 Ward/Bed : 2C-WARD/C203\n",
            "Mobile : 8019392984 Order Date : 01/02/2021 00:16:47\n",
            "Age/Gender : 56 Y,1 M,3 D  / Male Sample Date : 01/02/2021 00:32:28\n",
            "Doctor : KRISHNA PRASAD Result Status : COMPLETED\n",
            "Sample No : LB-20-026250 Order No : DL-20-026521\n",
            "Company : \n",
            "HAEMATOLOGY and CL.PATHOLOGY\n",
            "COMPLETE BLOOD PICTURE\n",
            "***End of Report***\n",
            "Check ed by :    ARIF\n",
            "INVESTIGATION RESULT UNIT BIOLOGICAL REFERENCE RANGE\n",
            "HbA1C 5.4% % Normal non diabetic r ange : 4-6%\n",
            "Controlled diabetic r ange : 6-7%\n",
            "Unsatisfactory control : 7-8% Poor\n",
            "control :>8%\n",
            "MADHAVI R.\n",
            "MD PATHOLOGISTPatient Name : MR. KISHAN GOUD MR Number : MR2100003157\n",
            "IP Number : IP2100041193 Ward/Bed : 2C-WARD/C203\n",
            "Mobile : 8019392984 Order Date : 01/02/2021 00:16:47\n",
            "Age/Gender : 56 Y,1 M,3 D  / Male Sample Date : 01/02/2021 00:32:28\n",
            "Doctor : KRISHNA PRASAD Result Status : COMPLETED\n",
            "Sample No : LB-20-026250 Order No : DL-20-026521\n",
            "Company : \n",
            "HAEMATOLOGY and CL.PATHOLOGY\n",
            "HbA1C\n",
            "***End of Report***\n",
            "Check ed by :    ARIF\n",
            "INVESTIGATION RESULT UNIT BIOLOGICAL REFERENCE RANGE\n",
            "SERUM CREA TININE\n",
            "Method: JAFFES METHOD0.8 mg/dl 0.6 - 1.25\n",
            "P SUNEETHA\n",
            "BIOCHEMISTPatient Name : MR. KISHAN GOUD MR Number : MR2100003157\n",
            "IP Number : IP2100041193 Ward/Bed : 2C-WARD/C203\n",
            "Mobile : 8019392984 Order Date : 01/02/2021 00:16:47\n",
            "Age/Gender : 56 Y,1 M,3 D  / Male Sample Date : 01/02/2021 00:32:28\n",
            "Doctor : KRISHNA PRASAD Result Status : COMPLETED\n",
            "Sample No : LB-20-026250 Order No : DL-20-026521\n",
            "Company : \n",
            "BIOCHEMISTRY\n",
            "SERUM CREATININE\n",
            "***End of Report***\n",
            "Check ed by :    ARIF\n",
            "INVESTIGATION RESULT UNIT BIOLOGICAL REFERENCE RANGE\n",
            "RANDOM BL OOD GLUCOSE\n",
            "Method: GOD-POD METHODmg/dl 60 - 170\n",
            "P SUNEETHA\n",
            "BIOCHEMISTPatient Name : MR. KISHAN GOUD MR Number : MR2100003157\n",
            "IP Number : IP2100041193 Ward/Bed : 2C-WARD/C203\n",
            "Mobile : 8019392984 Order Date : 01/02/2021 00:16:47\n",
            "Age/Gender : 56 Y,1 M,3 D  / Male Sample Date : 01/02/2021 00:32:28\n",
            "Doctor : KRISHNA PRASAD Result Status : COMPLETED\n",
            "Sample No : LB-20-026250 Order No : DL-20-026521\n",
            "Company : \n",
            "BIOCHEMISTRY\n",
            "RANDOM BLOOD GLUCOSE\n",
            "***End of Report***\n",
            "Check ed by :    ARIF\n",
            "INVESTIGATION RESULT UNIT BIOLOGICAL REFERENCE RANGE\n",
            "SERUM BILIRUBIN(T OTAL)\n",
            "Method: DIAZO METHOD0.6 mg/dl 0.2 - 1.3\n",
            "SERUM BILIRUBIN(DIRECT)\n",
            "Method: DIAZO METHOD0.2 mg/dl 0.2 - 0.8\n",
            "SERUM BILIRUBIN (INDIRECT)\n",
            "Method: DIAZO METHOD0.4 mg/dl\n",
            "SERUM ALKALINE PHOSPHA TE\n",
            "Method: TRIS CARBONATE BUFFER71 IU/L 35 - 120\n",
            "SGOT\n",
            "Method: IFCC METHOD24 u/L 17 - 59\n",
            "SGPT\n",
            "Method: IFCC METHOD20 u/L 5 - 40\n",
            "TOTAL PRO TEIN\n",
            "Method: BIURET METHOD7.3 gms/dl 6.3 - 8.2\n",
            "ALBUMIN\n",
            "Method: BCG Dye METHOD4.0 gms/dl 3.5 - 5\n",
            "GLOBULIN 3.3 gms/dl\n",
            "A/G RA TIO 1.2\n",
            "P SUNEETHA\n",
            "BIOCHEMISTPatient Name : MR. KISHAN GOUD MR Number : MR2100003157\n",
            "IP Number : IP2100041193 Ward/Bed : 2C-WARD/C203\n",
            "Mobile : 8019392984 Order Date : 01/02/2021 00:16:47\n",
            "Age/Gender : 56 Y,1 M,3 D  / Male Sample Date : 01/02/2021 00:32:28\n",
            "Doctor : KRISHNA PRASAD Result Status : COMPLETED\n",
            "Sample No : LB-20-026250 Order No : DL-20-026521\n",
            "Company : \n",
            "BIOCHEMISTRY\n",
            "LIVER FUNCTION TEST\n",
            "***End of Report***\n",
            "Check ed by :    ARIF\n",
            "INVESTIGATION RESULT UNIT BIOLOGICAL REFERENCE RANGE\n",
            "SERUM SODIUM\n",
            "Method: ISE:METHOD122 mmol/l 135 - 146\n",
            "SERUM PO TASSIUM\n",
            "Method: ISE:METHOD3.5 mmol/l 3.5 - 5.5\n",
            "SERUM CHL ORIDE\n",
            "Method: ISE:METHOD97 mmol/l 98 - 107\n",
            "P SUNEETHA\n",
            "BIOCHEMISTPatient Name : MR. KISHAN GOUD MR Number : MR2100003157\n",
            "IP Number : IP2100041193 Ward/Bed : 2C-WARD/C203\n",
            "Mobile : 8019392984 Order Date : 01/02/2021 00:16:47\n",
            "Age/Gender : 56 Y,1 M,3 D  / Male Sample Date : 01/02/2021 00:32:28\n",
            "Doctor : KRISHNA PRASAD Result Status : COMPLETED\n",
            "Sample No : LB-20-026250 Order No : DL-20-026521\n",
            "Company : \n",
            "BIOCHEMISTRY\n",
            "SERUM ELECTROLYES\n",
            "***End of Report***\n",
            "Check ed by :    ARIF\n",
            "\n",
            "Please provide the content of the health report. I need the text of the PDF to extract key insights.  I cannot access local files or PDFs.\n",
            "\n"
          ]
        }
      ]
    },
    {
      "cell_type": "code",
      "source": [
        "def summarize_health_info(text):\n",
        "  model=genai.GenerativeModel(\"gemini-1.5-flash\")\n",
        "  prompt=f\"Summarize the following health report:\\n\\n{text}\"\n",
        "  response=model.generate_content(prompt)\n",
        "  return response.text\n",
        "summary=summarize_health_info(extracted_text)\n",
        "print(\"Summary:\\n\",summary)"
      ],
      "metadata": {
        "colab": {
          "base_uri": "https://localhost:8080/",
          "height": 471
        },
        "id": "s1i2XfXb-GPn",
        "outputId": "aabf4711-73fa-440c-ce78-8ce73a65f31e"
      },
      "execution_count": 15,
      "outputs": [
        {
          "output_type": "stream",
          "name": "stdout",
          "text": [
            "Summary:\n",
            " This is a comprehensive health report for Mr. Kishan Goud (MR2100003157), a 56-year-old male, conducted on February 1st, 2021.  The report includes several tests:\n",
            "\n",
            "* **Widal Test:** Elevated titers for *Salmonella Typhi* \"O\" (1:160) and \"H\" (1:80) suggest possible *Salmonella Typhi* infection.  *Salmonella Paratyphi* AH and BH titers were within the normal range.\n",
            "\n",
            "* **Dengue Serology:** Negative for Dengue NS1 antigen, IgG, and IgM antibodies.\n",
            "\n",
            "* **Erythrocyte Sedimentation Rate (ESR):** Elevated (26 mm/hr in the first hour, 52 mm/hr in the second hour), indicating inflammation.\n",
            "\n",
            "* **Rapid Malaria Test:** Negative for both *Plasmodium vivax* and *Plasmodium falciparum*.\n",
            "\n",
            "* **Complete Blood Picture (CBC):**  Hemoglobin, RBC, WBC, and platelet counts were within normal limits, although platelets were at the lower end of the range. Differential count also showed normal ranges.\n",
            "\n",
            "* **HbA1c:** 5.4%, within the normal non-diabetic range.\n",
            "\n",
            "* **Serum Creatinine:** 0.8 mg/dl, within the normal range.\n",
            "\n",
            "* **Random Blood Glucose:**  Not specified in the provided text.\n",
            "\n",
            "* **Liver Function Test (LFT):** All values (bilirubin - total, direct, indirect; alkaline phosphatase; SGOT; SGPT; total protein; albumin; globulin; A/G ratio) were within normal limits.\n",
            "\n",
            "* **Serum Electrolytes:** Sodium (122 mmol/l) was slightly below the normal range, while potassium and chloride were within normal limits.\n",
            "\n",
            "In summary, the report shows elevated Widal test titers suggestive of typhoid, an elevated ESR suggesting inflammation, and slightly low serum sodium.  All other tests, including those for dengue and malaria, were negative, and other blood and liver function tests were mostly within normal ranges.  Further evaluation may be needed based on the clinical picture.\n",
            "\n"
          ]
        }
      ]
    },
    {
      "cell_type": "code",
      "source": [
        "def detetc_abnormalities(text):\n",
        "  model=genai.GenerativeModel(\"gemini-1.5-flash\")\n",
        "  prompt=f\"Analyze the lab test results in the following health report and highlight any abnormal values:\\n\\n:{text}\"\n",
        "  response=model.generate_content(prompt)\n",
        "  return response.text\n",
        "abnormalities=detetc_abnormalities(extracted_text)\n",
        "print(\"Abnormalities:\\n\",abnormalities)"
      ],
      "metadata": {
        "colab": {
          "base_uri": "https://localhost:8080/",
          "height": 280
        },
        "id": "EXScbNVe-GRk",
        "outputId": "0fae4115-d30e-4601-8a55-7b91afb0f8cb"
      },
      "execution_count": 17,
      "outputs": [
        {
          "output_type": "stream",
          "name": "stdout",
          "text": [
            "Abnormalities:\n",
            " The following lab results from Mr. Kishan Goud's report are outside the provided reference ranges:\n",
            "\n",
            "* **Widal Test:**  S. Typhi \"O\" (1:160) and S. Typhi \"H\" (1:80) are significantly higher than the reference range of 1:20. This suggests a possible past or current infection with *Salmonella Typhi*, though further investigation and clinical correlation are necessary for definitive diagnosis.  The titers are suggestive of past infection or a very early current one in the case of O antibody.\n",
            "\n",
            "* **ESR:**  Both the 1st hour (26 mm/hr) and 2nd hour (52 mm/hr) ESR values are elevated above the normal range of 0-8 mm/hr for the first hour.  Elevated ESR indicates inflammation in the body, but the cause needs further investigation.\n",
            "\n",
            "* **Serum Sodium:** The serum sodium level (122 mmol/l) is below the reference range of 135-146 mmol/l, indicating hyponatremia (low sodium). This is a significant finding and requires medical attention.\n",
            "\n",
            "* **Serum Chloride:** The serum chloride level (97 mmol/l) is slightly below the reference range of 98-107 mmol/l. While not as dramatically low as the sodium, it might be clinically significant in conjunction with the hyponatremia.\n",
            "\n",
            "\n",
            "**Important Note:**  I am an AI and cannot provide medical advice.  These highlighted abnormalities require interpretation by a qualified healthcare professional in the context of Mr. Kishan Goud's complete medical history, symptoms, and other findings.  The doctor should be consulted for diagnosis and treatment.\n",
            "\n"
          ]
        }
      ]
    },
    {
      "cell_type": "code",
      "source": [
        "def explanation(text):\n",
        "  model=genai.GenerativeModel(\"gemini-1.5-flash\")\n",
        "  prompt=f\"give a simplified explanation for the following health report\\n\\n:{text}\"\n",
        "  response=model.generate_content(prompt)\n",
        "  return response.text\n",
        "explanation=explanation(extracted_text)\n",
        "print(\"Explanation:\\n\",explanation)"
      ],
      "metadata": {
        "colab": {
          "base_uri": "https://localhost:8080/",
          "height": 627
        },
        "id": "VrIziZZd-GVF",
        "outputId": "d7588b94-90b9-4efb-ad6b-96860f2d596c"
      },
      "execution_count": 19,
      "outputs": [
        {
          "output_type": "stream",
          "name": "stdout",
          "text": [
            "Explanation:\n",
            " This is a collection of lab results for Mr. Kishan Goud.  Let's break down the key findings:\n",
            "\n",
            "**Infections:**\n",
            "\n",
            "* **Widal Test (for Typhoid):**  This test shows some antibodies to *Salmonella Typhi*, but the levels are not definitively high enough to confirm a current typhoid infection.  Further investigation might be needed.\n",
            "* **Dengue Serology:**  Negative for dengue fever.\n",
            "* **Malaria Test:** Negative for malaria.\n",
            "\n",
            "**Blood Tests:**\n",
            "\n",
            "* **Complete Blood Count (CBC):**  All blood counts (red blood cells, white blood cells, platelets) are within the normal range.  This means there's no significant anemia, infection, or bleeding problem detected.\n",
            "* **Erythrocyte Sedimentation Rate (ESR):**  Elevated (26 mm/hr in the first hour, 52 mm/hr in the second).  This indicates inflammation in the body, but the cause needs further investigation.  It could be due to various factors, not necessarily a serious infection.\n",
            "* **HbA1c (blood sugar control):** Normal, indicating well-controlled blood sugar levels.\n",
            "* **Blood Glucose (random):** Within the normal range.\n",
            "\n",
            "**Liver Function Tests (LFTs):**\n",
            "\n",
            "* All liver function tests are within normal limits, suggesting no significant liver damage.\n",
            "\n",
            "**Kidney Function Test:**\n",
            "\n",
            "* **Serum Creatinine:** Within the normal range, indicating normal kidney function.\n",
            "\n",
            "**Electrolytes:**\n",
            "\n",
            "* **Sodium:** Slightly low (122 mmol/l). The lower end of normal is 135 mmol/l.  This is mildly low and should be monitored.\n",
            "* **Potassium:** Within the normal range.\n",
            "* **Chloride:** Slightly low (97 mmol/l).  The lower end of normal is 98 mmol/l. This is mildly low and should be monitored.\n",
            "\n",
            "**In summary:**\n",
            "\n",
            "The tests show some signs of inflammation (elevated ESR), and mildly low sodium and chloride levels. However, there's no evidence of typhoid, dengue, or malaria.  The overall blood picture is normal, and liver and kidney function appear good.  The slightly low sodium and chloride warrant further investigation to determine the underlying cause.  The doctor will need to interpret these results in the context of Mr. Kishan Goud's symptoms and medical history to determine the next steps in his care.\n",
            "\n"
          ]
        }
      ]
    },
    {
      "cell_type": "code",
      "source": [],
      "metadata": {
        "id": "V_Nvx4cZ-GXz"
      },
      "execution_count": null,
      "outputs": []
    },
    {
      "cell_type": "code",
      "source": [],
      "metadata": {
        "id": "5K4xSzN7-Gcf"
      },
      "execution_count": null,
      "outputs": []
    },
    {
      "cell_type": "code",
      "source": [],
      "metadata": {
        "id": "Qh_P3Ny--GfZ"
      },
      "execution_count": null,
      "outputs": []
    }
  ]
}
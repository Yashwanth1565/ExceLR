{
  "nbformat": 4,
  "nbformat_minor": 0,
  "metadata": {
    "colab": {
      "provenance": [],
      "authorship_tag": "ABX9TyP8N2K9v3FAMjHV90MNSf5e",
      "include_colab_link": true
    },
    "kernelspec": {
      "name": "python3",
      "display_name": "Python 3"
    },
    "language_info": {
      "name": "python"
    }
  },
  "cells": [
    {
      "cell_type": "markdown",
      "metadata": {
        "id": "view-in-github",
        "colab_type": "text"
      },
      "source": [
        "<a href=\"https://colab.research.google.com/github/Yashwanth1565/ExceLR/blob/main/ExceLR.ipynb\" target=\"_parent\"><img src=\"https://colab.research.google.com/assets/colab-badge.svg\" alt=\"Open In Colab\"/></a>"
      ]
    },
    {
      "cell_type": "code",
      "source": [
        "### identifying wrong text and correcting it using textblob\n",
        "from textblob import TextBlob\n",
        "incorrect_text=\"thfge mavvn wkho is standikkng that was an elephantt\"\n",
        "textBlb=TextBlob(incorrect_text)\n",
        "print(\"correct text:\",textBlb.correct().string)"
      ],
      "metadata": {
        "colab": {
          "base_uri": "https://localhost:8080/"
        },
        "id": "_vqgkPq6TRnt",
        "outputId": "3abd6ba2-c2f5-4d8b-cc0b-d0d09f8a7230"
      },
      "execution_count": null,
      "outputs": [
        {
          "output_type": "stream",
          "name": "stdout",
          "text": [
            "correct text: the man who is standing that was an elephant\n"
          ]
        }
      ]
    },
    {
      "cell_type": "code",
      "source": [
        "from sklearn.preprocessing import OneHotEncoder\n",
        "import numpy as np\n",
        "sentences=['i love coding','i love python','coding is fun']\n",
        "words=[sentence.split() for sentence in sentences]\n",
        "vocabulary=sorted(set(word for sentence in words for word in sentence))\n",
        "encoder=OneHotEncoder(sparse_output=False)\n",
        "encoder.fit(np.array(vocabulary).reshape(-1,1))\n",
        "encoded_sentences=[]\n",
        "for sentence in words:\n",
        "  encoded=encoder.transform(np.array(sentence).reshape(-1,1))\n",
        "  encoded_sentences.append(encoded)\n",
        "#print(encoded_sentences)\n",
        "print(\"vacabulary: \",vocabulary)\n",
        "for i,sentence in enumerate(encoded_sentences):\n",
        "  print(f\"Sentences:\\n' {sentence}'\")\n",
        "  print(\"One Hot Encoding:\\n\",encoded_sentences[i])"
      ],
      "metadata": {
        "colab": {
          "base_uri": "https://localhost:8080/"
        },
        "id": "OsjLYQgUT30e",
        "outputId": "805d8a72-2143-4131-efe0-9704206d6eaa"
      },
      "execution_count": null,
      "outputs": [
        {
          "output_type": "stream",
          "name": "stdout",
          "text": [
            "vacabulary:  ['coding', 'fun', 'i', 'is', 'love', 'python']\n",
            "Sentences:\n",
            "' [[0. 0. 1. 0. 0. 0.]\n",
            " [0. 0. 0. 0. 1. 0.]\n",
            " [1. 0. 0. 0. 0. 0.]]'\n",
            "One Hot Encoding:\n",
            " [[0. 0. 1. 0. 0. 0.]\n",
            " [0. 0. 0. 0. 1. 0.]\n",
            " [1. 0. 0. 0. 0. 0.]]\n",
            "Sentences:\n",
            "' [[0. 0. 1. 0. 0. 0.]\n",
            " [0. 0. 0. 0. 1. 0.]\n",
            " [0. 0. 0. 0. 0. 1.]]'\n",
            "One Hot Encoding:\n",
            " [[0. 0. 1. 0. 0. 0.]\n",
            " [0. 0. 0. 0. 1. 0.]\n",
            " [0. 0. 0. 0. 0. 1.]]\n",
            "Sentences:\n",
            "' [[1. 0. 0. 0. 0. 0.]\n",
            " [0. 0. 0. 1. 0. 0.]\n",
            " [0. 1. 0. 0. 0. 0.]]'\n",
            "One Hot Encoding:\n",
            " [[1. 0. 0. 0. 0. 0.]\n",
            " [0. 0. 0. 1. 0. 0.]\n",
            " [0. 1. 0. 0. 0. 0.]]\n"
          ]
        }
      ]
    },
    {
      "cell_type": "code",
      "source": [
        "#### Bag-of-words\n",
        "\n",
        "from sklearn.feature_extraction.text import CountVectorizer\n",
        "document=[\"I love python programming\",\n",
        "          \"Python programming is fun\",\n",
        "          \"I do not love the bugs in the code\"]\n",
        "\n",
        "vectorizer=CountVectorizer()\n",
        "bow_matrix=vectorizer.fit_transform(document) #### Training the data to vectorizer\n",
        "\n",
        "vocabulary=vectorizer.get_feature_names_out()  ### gives all the unique fearures\n",
        "print(\"Vocabulary:\\n\",vocabulary)\n",
        "print(\"Bag of Words Matrix:\\n\",bow_matrix.toarray())\n"
      ],
      "metadata": {
        "id": "_C4WpPTrWl3V",
        "colab": {
          "base_uri": "https://localhost:8080/"
        },
        "outputId": "1442e9ad-3be8-4255-e992-c9528d05c333"
      },
      "execution_count": null,
      "outputs": [
        {
          "output_type": "stream",
          "name": "stdout",
          "text": [
            "Vocabulary:\n",
            " ['bugs' 'code' 'do' 'fun' 'in' 'is' 'love' 'not' 'programming' 'python'\n",
            " 'the']\n",
            "Bag of Words Matrix:\n",
            " [[0 0 0 0 0 0 1 0 1 1 0]\n",
            " [0 0 0 1 0 1 0 0 1 1 0]\n",
            " [1 1 1 0 1 0 1 1 0 0 2]]\n"
          ]
        }
      ]
    },
    {
      "cell_type": "code",
      "source": [
        "### TF-IDF\n",
        "import numpy as np\n",
        "import pandas as pd\n",
        "from sklearn.feature_extraction.text import TfidfVectorizer\n",
        "vectorizer=TfidfVectorizer()\n",
        "X=vectorizer.fit_transform(document)\n",
        "df=pd.DataFrame(X.toarray(),columns=vectorizer.get_feature_names_out())\n",
        "print(df.head())\n",
        "\n",
        "\n"
      ],
      "metadata": {
        "colab": {
          "base_uri": "https://localhost:8080/"
        },
        "id": "0qv35P5kOWRp",
        "outputId": "923344de-351e-406e-9f7b-bf12367d7817"
      },
      "execution_count": null,
      "outputs": [
        {
          "output_type": "stream",
          "name": "stdout",
          "text": [
            "       bugs      code        do       fun        in        is      love  \\\n",
            "0  0.000000  0.000000  0.000000  0.000000  0.000000  0.000000  0.577350   \n",
            "1  0.000000  0.000000  0.000000  0.562829  0.000000  0.562829  0.000000   \n",
            "2  0.323112  0.323112  0.323112  0.000000  0.323112  0.000000  0.245735   \n",
            "\n",
            "        not  programming    python       the  \n",
            "0  0.000000     0.577350  0.577350  0.000000  \n",
            "1  0.000000     0.428046  0.428046  0.000000  \n",
            "2  0.323112     0.000000  0.000000  0.646225  \n"
          ]
        }
      ]
    },
    {
      "cell_type": "code",
      "source": [
        "### TF-IDF\n",
        "import numpy as np\n",
        "import pandas as pd\n",
        "from sklearn.feature_extraction.text import TfidfVectorizer\n",
        "\n",
        "# Instead of X, use bow_matrix from the previous cell\n",
        "vectorizer = TfidfVectorizer()\n",
        "# Fit the vectorizer to the same documents used for bow_matrix\n",
        "vectorizer.fit(document)  # Assuming 'document' is still in scope\n",
        "\n",
        "# Transform the documents using TF-IDF\n",
        "tfidf_matrix = vectorizer.transform(document)\n",
        "\n",
        "# Create the DataFrame using tfidf_matrix\n",
        "df = pd.DataFrame(tfidf_matrix.toarray(), columns=vectorizer.get_feature_names_out())\n",
        "print(df.head())"
      ],
      "metadata": {
        "colab": {
          "base_uri": "https://localhost:8080/"
        },
        "id": "vaNu3WImVdBq",
        "outputId": "eff87dfe-8c23-4546-9a5c-34a758a2023e"
      },
      "execution_count": null,
      "outputs": [
        {
          "output_type": "stream",
          "name": "stdout",
          "text": [
            "       bugs      code        do       fun        in        is      love  \\\n",
            "0  0.000000  0.000000  0.000000  0.000000  0.000000  0.000000  0.577350   \n",
            "1  0.000000  0.000000  0.000000  0.562829  0.000000  0.562829  0.000000   \n",
            "2  0.323112  0.323112  0.323112  0.000000  0.323112  0.000000  0.245735   \n",
            "\n",
            "        not  programming    python       the  \n",
            "0  0.000000     0.577350  0.577350  0.000000  \n",
            "1  0.000000     0.428046  0.428046  0.000000  \n",
            "2  0.323112     0.000000  0.000000  0.646225  \n"
          ]
        }
      ]
    },
    {
      "cell_type": "code",
      "source": [
        "##### Saturday 18-01-2025"
      ],
      "metadata": {
        "id": "_f_ULxkrS8k9"
      },
      "execution_count": null,
      "outputs": []
    },
    {
      "cell_type": "code",
      "source": [
        "### NLP gram\n",
        "\n",
        "from nltk import ngrams\n",
        "from collections import Counter\n",
        "sentence=\"I love python soo much\"\n",
        "text=sentence.split()\n",
        "print(text)\n",
        "\n",
        "### Creating a function\n",
        "\n",
        "def n_gram(text,n):\n",
        "  n_grams=ngrams(text,n)\n",
        "  return [\" \".join(grams) for grams in n_grams]\n",
        "\n"
      ],
      "metadata": {
        "colab": {
          "base_uri": "https://localhost:8080/",
          "height": 245
        },
        "id": "rwBVUBxuTBfb",
        "outputId": "307a87b0-4f43-441b-fe8b-ded6906464ca"
      },
      "execution_count": null,
      "outputs": [
        {
          "output_type": "stream",
          "name": "stdout",
          "text": [
            "['I', 'love', 'python', 'soo', 'much']\n",
            "['I', 'love', 'python', 'soo', 'much']\n",
            "['I love', 'love python', 'python soo', 'soo much']\n",
            "['I love python', 'love python soo', 'python soo much']\n"
          ]
        },
        {
          "output_type": "error",
          "ename": "NameError",
          "evalue": "name 'quadgrams' is not defined",
          "traceback": [
            "\u001b[0;31m---------------------------------------------------------------------------\u001b[0m",
            "\u001b[0;31mNameError\u001b[0m                                 Traceback (most recent call last)",
            "\u001b[0;32m<ipython-input-10-76abbf06572a>\u001b[0m in \u001b[0;36m<cell line: 0>\u001b[0;34m()\u001b[0m\n\u001b[1;32m     20\u001b[0m \u001b[0mprint\u001b[0m\u001b[0;34m(\u001b[0m\u001b[0mtrigrams\u001b[0m\u001b[0;34m)\u001b[0m\u001b[0;34m\u001b[0m\u001b[0;34m\u001b[0m\u001b[0m\n\u001b[1;32m     21\u001b[0m \u001b[0mquagrams\u001b[0m\u001b[0;34m=\u001b[0m\u001b[0mn_gram\u001b[0m\u001b[0;34m(\u001b[0m\u001b[0mtext\u001b[0m\u001b[0;34m,\u001b[0m\u001b[0;36m4\u001b[0m\u001b[0;34m)\u001b[0m\u001b[0;34m\u001b[0m\u001b[0;34m\u001b[0m\u001b[0m\n\u001b[0;32m---> 22\u001b[0;31m \u001b[0mprint\u001b[0m\u001b[0;34m(\u001b[0m\u001b[0mquadgrams\u001b[0m\u001b[0;34m)\u001b[0m\u001b[0;34m\u001b[0m\u001b[0;34m\u001b[0m\u001b[0m\n\u001b[0m",
            "\u001b[0;31mNameError\u001b[0m: name 'quadgrams' is not defined"
          ]
        }
      ]
    },
    {
      "cell_type": "code",
      "source": [
        "n=1\n",
        "unigrams=n_gram(text,1)\n",
        "print(unigrams)\n",
        "\"\"\"bigrams=n_gram(text,2)\n",
        "print(bigrams)\n",
        "trigrams=n_gram(text,3)\n",
        "print(trigrams)\n",
        "quagrams=n_gram(text,4)\n",
        "print(quadgrams)\"\"\""
      ],
      "metadata": {
        "colab": {
          "base_uri": "https://localhost:8080/",
          "height": 70
        },
        "id": "fpLimjYwXEXg",
        "outputId": "8c0cb797-8c61-458a-be4c-5dcac96ce16f"
      },
      "execution_count": null,
      "outputs": [
        {
          "output_type": "stream",
          "name": "stdout",
          "text": [
            "['I', 'love', 'python', 'soo', 'much']\n"
          ]
        },
        {
          "output_type": "execute_result",
          "data": {
            "text/plain": [
              "'bigrams=n_gram(text,2)\\nprint(bigrams)\\ntrigrams=n_gram(text,3)\\nprint(trigrams)\\nquagrams=n_gram(text,4)\\nprint(quadgrams)'"
            ],
            "application/vnd.google.colaboratory.intrinsic+json": {
              "type": "string"
            }
          },
          "metadata": {},
          "execution_count": 12
        }
      ]
    },
    {
      "cell_type": "code",
      "source": [
        "'''unigrams=n_gram(text,1)\n",
        "print(unigrams)'''\n",
        "n=2\n",
        "bigrams=n_gram(text,2)\n",
        "print(bigrams)\n",
        "'''trigrams=n_gram(text,3)\n",
        "print(trigrams)\n",
        "quagrams=n_gram(text,4)\n",
        "print(quadgrams)'''\n"
      ],
      "metadata": {
        "colab": {
          "base_uri": "https://localhost:8080/",
          "height": 52
        },
        "id": "AcS1vn5oYhie",
        "outputId": "6a7702d3-318b-4668-83ae-1d22f21b4a99"
      },
      "execution_count": null,
      "outputs": [
        {
          "output_type": "stream",
          "name": "stdout",
          "text": [
            "['I love', 'love python', 'python soo', 'soo much']\n"
          ]
        },
        {
          "output_type": "execute_result",
          "data": {
            "text/plain": [
              "'trigrams=n_gram(text,3)\\nprint(trigrams)\\nquagrams=n_gram(text,4)\\nprint(quadgrams)'"
            ],
            "application/vnd.google.colaboratory.intrinsic+json": {
              "type": "string"
            }
          },
          "metadata": {},
          "execution_count": 13
        }
      ]
    },
    {
      "cell_type": "code",
      "source": [
        "'''unigrams=n_gram(text,1)\n",
        "print(unigrams)\n",
        "bigrams=n_gram(text,2)\n",
        "print(bigrams)'''\n",
        "n=3\n",
        "trigrams=n_gram(text,3)\n",
        "print(trigrams)\n",
        "'''quagrams=n_gram(text,4)\n",
        "print(quadgrams)'''"
      ],
      "metadata": {
        "colab": {
          "base_uri": "https://localhost:8080/",
          "height": 52
        },
        "id": "rrmnq2eOY2fx",
        "outputId": "387971b7-e516-4a5d-e817-c4f378856195"
      },
      "execution_count": null,
      "outputs": [
        {
          "output_type": "stream",
          "name": "stdout",
          "text": [
            "['I love python', 'love python soo', 'python soo much']\n"
          ]
        },
        {
          "output_type": "execute_result",
          "data": {
            "text/plain": [
              "'quagrams=n_gram(text,4)\\nprint(quadgrams)'"
            ],
            "application/vnd.google.colaboratory.intrinsic+json": {
              "type": "string"
            }
          },
          "metadata": {},
          "execution_count": 14
        }
      ]
    },
    {
      "cell_type": "code",
      "source": [
        "''''unigrams=n_gram(text,1)\n",
        "print(unigrams)\n",
        "bigrams=n_gram(text,2)\n",
        "print(bigrams)\n",
        "trigrams=n_gram(text,3)\n",
        "print(trigrams)'''\n",
        "n=4\n",
        "quadgrams=n_gram(text,4)\n",
        "print(quadgrams)"
      ],
      "metadata": {
        "colab": {
          "base_uri": "https://localhost:8080/"
        },
        "id": "9L5NAIs8ZDTP",
        "outputId": "29db98b5-b2f2-4dd9-ae32-7a33db0debda"
      },
      "execution_count": null,
      "outputs": [
        {
          "output_type": "stream",
          "name": "stdout",
          "text": [
            "['I love python soo', 'love python soo much']\n"
          ]
        }
      ]
    },
    {
      "cell_type": "code",
      "source": [
        "n=5\n",
        "punchgrams=n_gram(text,5)\n",
        "print(punchgrams)"
      ],
      "metadata": {
        "colab": {
          "base_uri": "https://localhost:8080/"
        },
        "id": "snRQxaRkZImZ",
        "outputId": "49dc8a6b-fd28-4c58-d2b7-559008dd1a6b"
      },
      "execution_count": null,
      "outputs": [
        {
          "output_type": "stream",
          "name": "stdout",
          "text": [
            "['I love python soo much']\n"
          ]
        }
      ]
    },
    {
      "cell_type": "code",
      "source": [
        "asdfghjkl;'\n",
        "456zxcvbnm,./'23qwerty7uiop[]\\789+Zxcvbnm,./23\n"
      ],
      "metadata": {
        "id": "yTASF-c2ZScz"
      },
      "execution_count": null,
      "outputs": []
    },
    {
      "cell_type": "code",
      "source": [
        "!pip install gensim\n"
      ],
      "metadata": {
        "colab": {
          "base_uri": "https://localhost:8080/"
        },
        "id": "ENcRIfvs6u-4",
        "outputId": "4335d215-135c-4212-ba06-b7b2a5cb69c9"
      },
      "execution_count": null,
      "outputs": [
        {
          "output_type": "stream",
          "name": "stdout",
          "text": [
            "Requirement already satisfied: gensim in /usr/local/lib/python3.11/dist-packages (4.3.3)\n",
            "Requirement already satisfied: numpy<2.0,>=1.18.5 in /usr/local/lib/python3.11/dist-packages (from gensim) (1.26.4)\n",
            "Requirement already satisfied: scipy<1.14.0,>=1.7.0 in /usr/local/lib/python3.11/dist-packages (from gensim) (1.13.1)\n",
            "Requirement already satisfied: smart-open>=1.8.1 in /usr/local/lib/python3.11/dist-packages (from gensim) (7.1.0)\n",
            "Requirement already satisfied: wrapt in /usr/local/lib/python3.11/dist-packages (from smart-open>=1.8.1->gensim) (1.17.0)\n"
          ]
        }
      ]
    },
    {
      "cell_type": "code",
      "source": [
        "corpus=[\n",
        "    \"Ask not what your country can do for you.\",\n",
        "    \"Change your thoughts and you change your world.\",\n",
        "    \"Success is the sum of small efforts, repeated day in and day out.\",\n",
        "    \"It always seems impossible until it's done.\",\n",
        "    \"All litters are not gold.\"\n",
        "]"
      ],
      "metadata": {
        "id": "1sNxoL3y7sTY"
      },
      "execution_count": null,
      "outputs": []
    },
    {
      "cell_type": "code",
      "source": [
        "corpus = [\n",
        "    \"The quick brown cat jumps over the lazy dog\",\n",
        "    \"A journey of a thousand miles begins with a single step\",\n",
        "    \"To be or not to be that is the question\",\n",
        "    \"All that glitters is not gold\",\n",
        "    \"The early bird catches the worm\"\n",
        "]"
      ],
      "metadata": {
        "id": "MW1F2RmK81Hj"
      },
      "execution_count": null,
      "outputs": []
    },
    {
      "cell_type": "code",
      "source": [
        "tokenize_sentence=[sentence.lower().split() for sentence in corpus]\n",
        "print(tokenize_sentence)"
      ],
      "metadata": {
        "colab": {
          "base_uri": "https://localhost:8080/"
        },
        "id": "dIzCd2ga83Rz",
        "outputId": "d57d9b7d-dfa7-4429-f256-822a924f9f72"
      },
      "execution_count": null,
      "outputs": [
        {
          "output_type": "stream",
          "name": "stdout",
          "text": [
            "[['the', 'quick', 'brown', 'cat', 'jumps', 'over', 'the', 'lazy', 'dog'], ['a', 'journey', 'of', 'a', 'thousand', 'miles', 'begins', 'with', 'a', 'single', 'step'], ['to', 'be', 'or', 'not', 'to', 'be', 'that', 'is', 'the', 'question'], ['all', 'that', 'glitters', 'is', 'not', 'gold'], ['the', 'early', 'bird', 'catches', 'the', 'worm']]\n"
          ]
        }
      ]
    },
    {
      "cell_type": "code",
      "source": [
        "import gensim\n",
        "from gensim.models import Word2Vec\n",
        "model=Word2Vec(tokenize_sentence,min_count=1,vector_size=50,window=5,sg=0)\n",
        "model.save(\"Word2Vec.model\")"
      ],
      "metadata": {
        "id": "TEoOQezr9BAS"
      },
      "execution_count": null,
      "outputs": []
    },
    {
      "cell_type": "code",
      "source": [
        "import gensim\n",
        "from gensim.models import Word2Vec # Changed word2Vec to Word2Vec\n",
        "model=Word2Vec(tokenize_sentence,min_count=1,vector_size=50,window=5,sg=0) # Changed word2Vec to Word2Vec\n",
        "model.save(\"word2Vec.model\")"
      ],
      "metadata": {
        "id": "pk0ejNir_FOf"
      },
      "execution_count": null,
      "outputs": []
    },
    {
      "cell_type": "code",
      "source": [
        "vector=model.wv[\"cat\"]\n",
        "print(vector)"
      ],
      "metadata": {
        "colab": {
          "base_uri": "https://localhost:8080/"
        },
        "id": "svf4zEdP_YE-",
        "outputId": "804571ef-68f6-4c78-98e2-704f54a49892"
      },
      "execution_count": null,
      "outputs": [
        {
          "output_type": "stream",
          "name": "stdout",
          "text": [
            "[ 1.6265802e-02 -8.9166770e-03 -2.1474273e-03  2.0087818e-03\n",
            " -3.8085945e-04  2.2845797e-03  1.2229419e-02 -3.9210954e-05\n",
            " -6.4889290e-03 -3.0246107e-03  1.1792165e-02  3.0216638e-03\n",
            " -1.4416290e-03  1.8664461e-02 -9.8503446e-03 -1.6686678e-03\n",
            "  1.8349672e-02  1.3495063e-02  3.0006764e-03 -1.7775077e-02\n",
            "  2.3031184e-03 -4.5672455e-03  1.8736541e-02  2.4200890e-03\n",
            "  2.9817792e-03  4.8100217e-03 -3.6664247e-03 -9.9993451e-03\n",
            "  4.5864380e-04 -4.0283133e-03  1.3202277e-02  1.7885761e-02\n",
            " -1.3438723e-03  5.9647011e-03 -1.2226269e-02  3.3990385e-03\n",
            " -1.3842322e-02 -1.7388793e-02 -1.1804348e-02 -1.7911090e-02\n",
            "  1.4557923e-02 -1.1541561e-02  1.6557282e-02 -1.4487328e-02\n",
            "  6.8516233e-03  1.9355772e-02 -1.5566316e-02 -1.9894745e-02\n",
            " -8.6559411e-03 -5.3599351e-03]\n"
          ]
        }
      ]
    },
    {
      "cell_type": "code",
      "source": [
        "similarities = model.wv.most_similar(\"cat\")\n",
        "for word,similarity in similarities:\n",
        "    print(f\"{word}: {similarity}\")\n",
        "\n"
      ],
      "metadata": {
        "colab": {
          "base_uri": "https://localhost:8080/"
        },
        "id": "dVcXPmKU_eVj",
        "outputId": "6429c489-4cc7-461b-f6ff-df7a44659a81"
      },
      "execution_count": null,
      "outputs": [
        {
          "output_type": "stream",
          "name": "stdout",
          "text": [
            "to: 0.18995018303394318\n",
            "quick: 0.18860775232315063\n",
            "dog: 0.17439205944538116\n",
            "or: 0.1423332542181015\n",
            "lazy: 0.11533424258232117\n",
            "not: 0.10170882195234299\n",
            "a: 0.08100420236587524\n",
            "all: 0.07590492814779282\n",
            "the: 0.040798820555210114\n",
            "early: 0.036736130714416504\n"
          ]
        }
      ]
    },
    {
      "cell_type": "code",
      "source": [
        "print(\"I going to MRU college to study NLP and they are soo good\")"
      ],
      "metadata": {
        "colab": {
          "base_uri": "https://localhost:8080/"
        },
        "id": "WdTIFMu1_33t",
        "outputId": "b48badfb-7f77-421a-c149-4083cd9a07b2"
      },
      "execution_count": null,
      "outputs": [
        {
          "output_type": "stream",
          "name": "stdout",
          "text": [
            "I going to MRU college to study NLP and they are soo good\n"
          ]
        }
      ]
    },
    {
      "cell_type": "code",
      "source": [
        "import re\n",
        "pattern=r\"\\d+\"\n",
        "text=\"oo7 is the code names for Mr.Bond\"\n",
        "output=re.match(pattern,text)\n",
        "print(output.group())"
      ],
      "metadata": {
        "id": "d-2gVfKtA-67",
        "colab": {
          "base_uri": "https://localhost:8080/",
          "height": 176
        },
        "outputId": "d6c98d20-514d-47d6-f88c-2c072d721de0"
      },
      "execution_count": 1,
      "outputs": [
        {
          "output_type": "error",
          "ename": "AttributeError",
          "evalue": "'NoneType' object has no attribute 'group'",
          "traceback": [
            "\u001b[0;31m---------------------------------------------------------------------------\u001b[0m",
            "\u001b[0;31mAttributeError\u001b[0m                            Traceback (most recent call last)",
            "\u001b[0;32m<ipython-input-1-84b780e8c972>\u001b[0m in \u001b[0;36m<cell line: 0>\u001b[0;34m()\u001b[0m\n\u001b[1;32m      3\u001b[0m \u001b[0mtext\u001b[0m\u001b[0;34m=\u001b[0m\u001b[0;34m\"oo7 is the code names for Mr.Bond\"\u001b[0m\u001b[0;34m\u001b[0m\u001b[0;34m\u001b[0m\u001b[0m\n\u001b[1;32m      4\u001b[0m \u001b[0moutput\u001b[0m\u001b[0;34m=\u001b[0m\u001b[0mre\u001b[0m\u001b[0;34m.\u001b[0m\u001b[0mmatch\u001b[0m\u001b[0;34m(\u001b[0m\u001b[0mpattern\u001b[0m\u001b[0;34m,\u001b[0m\u001b[0mtext\u001b[0m\u001b[0;34m)\u001b[0m\u001b[0;34m\u001b[0m\u001b[0;34m\u001b[0m\u001b[0m\n\u001b[0;32m----> 5\u001b[0;31m \u001b[0mprint\u001b[0m\u001b[0;34m(\u001b[0m\u001b[0moutput\u001b[0m\u001b[0;34m.\u001b[0m\u001b[0mgroup\u001b[0m\u001b[0;34m(\u001b[0m\u001b[0;34m)\u001b[0m\u001b[0;34m)\u001b[0m\u001b[0;34m\u001b[0m\u001b[0;34m\u001b[0m\u001b[0m\n\u001b[0m",
            "\u001b[0;31mAttributeError\u001b[0m: 'NoneType' object has no attribute 'group'"
          ]
        }
      ]
    },
    {
      "cell_type": "code",
      "source": [
        "import re\n",
        "pattern = r\"\\d+\"\n",
        "text = \"007 is the code names for Mr.Bond\"\n",
        "output = re.match(pattern, text)  # Changed re.match to re.search\n",
        "if output:  # Check if a match was found\n",
        "    print(output.group())\n",
        "else:\n",
        "    print(\"No match found.\")"
      ],
      "metadata": {
        "id": "cetkhyGDA-8m",
        "colab": {
          "base_uri": "https://localhost:8080/"
        },
        "outputId": "f1c70c9e-7cd3-4f1e-d996-e7e4d7e69c6c"
      },
      "execution_count": 23,
      "outputs": [
        {
          "output_type": "stream",
          "name": "stdout",
          "text": [
            "007\n"
          ]
        }
      ]
    },
    {
      "cell_type": "code",
      "source": [
        "import re\n",
        "pattern = r\"\\w+\"\n",
        "text = \"hlo 007 is the code names for Mr.Bond\"\n",
        "output = re.match(pattern, text)  # Changed re.match to re.search\n",
        "if output:  # Check if a match was found\n",
        "    print(output.group())\n",
        "else:\n",
        "    print(\"No match found.\")"
      ],
      "metadata": {
        "id": "68UuPY7oA_AQ",
        "colab": {
          "base_uri": "https://localhost:8080/"
        },
        "outputId": "49cc59a5-9dc0-4703-cebd-f57cbe96c47a"
      },
      "execution_count": 22,
      "outputs": [
        {
          "output_type": "stream",
          "name": "stdout",
          "text": [
            "hlo\n"
          ]
        }
      ]
    },
    {
      "cell_type": "code",
      "source": [
        "import re\n",
        "pattern=r\"\\w+\"\n",
        "text = \"hehy 007 is the code names for Mr.Bond\"\n",
        "output_pattern = re.match(pattern, text)  # Changed re.match to re.search\n",
        "if output_pattern:  # Check if a match was found\n",
        "    print(output_pattern.group())\n",
        "else:\n",
        "    print(\"No match found.\")"
      ],
      "metadata": {
        "id": "iUEDV7Y5_35d",
        "colab": {
          "base_uri": "https://localhost:8080/"
        },
        "outputId": "d686500a-6afa-4083-c0c8-b6d98fde9d87"
      },
      "execution_count": 29,
      "outputs": [
        {
          "output_type": "stream",
          "name": "stdout",
          "text": [
            "hehy\n"
          ]
        }
      ]
    },
    {
      "cell_type": "code",
      "source": [
        "import re\n",
        "pattern=r\"\\d+\"\n",
        "text = \"hehy 009 is the code names 008 for Mr.Bond\"\n",
        "output_pattern = re.search(pattern, text)  # Changed re.match to re.search\n",
        "if output_pattern:  # Check if a match was found\n",
        "    print(output_pattern.group())\n",
        "else:\n",
        "    print(\"No match found.\")"
      ],
      "metadata": {
        "id": "AgMKYgwr_39Q",
        "colab": {
          "base_uri": "https://localhost:8080/"
        },
        "outputId": "decdbb24-2b68-485f-e957-a9cca83eff8e"
      },
      "execution_count": 35,
      "outputs": [
        {
          "output_type": "stream",
          "name": "stdout",
          "text": [
            "009\n"
          ]
        }
      ]
    },
    {
      "cell_type": "code",
      "source": [
        "import re\n",
        "pattern=r\"\\d+\"\n",
        "text=\"hehy 007 is the code names 008 for Mr.Bond\"\n",
        "output_pattern=re.findall(pattern,text)\n",
        "print(output_pattern)"
      ],
      "metadata": {
        "colab": {
          "base_uri": "https://localhost:8080/"
        },
        "id": "fVT3Y8qsHtHM",
        "outputId": "b7cf0799-8c28-4702-bb5e-44cd2ae703cb"
      },
      "execution_count": 48,
      "outputs": [
        {
          "output_type": "stream",
          "name": "stdout",
          "text": [
            "['007', '008']\n"
          ]
        }
      ]
    },
    {
      "cell_type": "code",
      "source": [
        "### There is a text with hashtags,mails and digits and i want to extract those words using NLP"
      ],
      "metadata": {
        "id": "otyhOKpxIA2e"
      },
      "execution_count": null,
      "outputs": []
    },
    {
      "cell_type": "code",
      "source": [
        "mails = re.findall(r'[a-zA-Z0-9._%+-]+@[a-zA-Z0-9.-]+\\.[a-zA-Z]{2,}', text)"
      ],
      "metadata": {
        "id": "7liSdwJeJFRp"
      },
      "execution_count": null,
      "outputs": []
    },
    {
      "cell_type": "code",
      "source": [
        "import re\n",
        "pattern=r\"\\d+\"\n",
        "text = \"\"\"\n",
        "Hello world! Contact us at info@example.com or support123@company.org. Follow us on social media: #AI #MachineLearning.\n",
        "Visit <a href=\"http://example.com\">our website</a> for more details. This is a test with number 1234.\n",
        "\"\"\"\n",
        "output=re.findall(pattern,text)\n",
        "print(output)"
      ],
      "metadata": {
        "colab": {
          "base_uri": "https://localhost:8080/"
        },
        "id": "xHPrvv3nJE7A",
        "outputId": "23c19804-a71c-4354-8760-07d513057116"
      },
      "execution_count": 50,
      "outputs": [
        {
          "output_type": "stream",
          "name": "stdout",
          "text": [
            "['123', '1234']\n"
          ]
        }
      ]
    },
    {
      "cell_type": "code",
      "source": [
        "import re\n",
        "pattern=r\"#\\w+\"\n",
        "text = \"\"\"\n",
        "Hello world! Contact us at info@example.com or support123@company.org. Follow us on social media: #AI #MachineLearning.\n",
        "Visit <a href=\"http://example.com\">our website</a> for more details. This is a test with number 1234.\n",
        "\"\"\"\n",
        "output=re.findall(pattern,text)\n",
        "print(output)"
      ],
      "metadata": {
        "colab": {
          "base_uri": "https://localhost:8080/"
        },
        "id": "1Hwd-VCsJE5F",
        "outputId": "0b851a77-0111-417a-b419-79eea9e8f3b5"
      },
      "execution_count": 51,
      "outputs": [
        {
          "output_type": "stream",
          "name": "stdout",
          "text": [
            "['#AI', '#MachineLearning']\n"
          ]
        }
      ]
    },
    {
      "cell_type": "code",
      "source": [
        "import re\n",
        "#pattern=r\"\\w+\"\n",
        "text = \"\"\"\n",
        "Hello world! Contact us at info@example.com or support123@company.org. Follow us on social media: #AI #MachineLearning.\n",
        "Visit <a href=\"http://example.com\">our website</a> for more details. This is a test with number 1234.\n",
        "\"\"\"\n",
        "mails = re.findall(r'[a-zA-Z0-9._%+-]+@[a-zA-Z0-9.-]+\\.[a-zA-Z]{2,}', text)\n",
        "print(mails)"
      ],
      "metadata": {
        "colab": {
          "base_uri": "https://localhost:8080/"
        },
        "id": "8OtpusBNJE2T",
        "outputId": "dbcfdb4a-59f9-4d1b-d4b2-db455539afae"
      },
      "execution_count": 54,
      "outputs": [
        {
          "output_type": "stream",
          "name": "stdout",
          "text": [
            "['info@example.com', 'support123@company.org']\n"
          ]
        }
      ]
    },
    {
      "cell_type": "code",
      "source": [
        "import re\n",
        "#pattern=r\"\\w+\"\n",
        "text = \"\"\"\n",
        "Hello world! Contact us at info@example.com or support123@company.org. Follow us on social media: #AI #MachineLearning.\n",
        "Visit <a href=\"http://example.com\">our website</a> for more details. This is a test with number 1234.\n",
        "\"\"\"\n",
        "mails = re.findall(r'[a-zA-Z0-9._%+-]+@[a-zA-Z0-9.-]+\\.[a-zA-Z]{2,}', text)\n",
        "print(mails)"
      ],
      "metadata": {
        "colab": {
          "base_uri": "https://localhost:8080/"
        },
        "id": "Y_6GnC5fJE0Y",
        "outputId": "610a4960-08fa-4d61-ec04-4e6a75cc2472"
      },
      "execution_count": 56,
      "outputs": [
        {
          "output_type": "stream",
          "name": "stdout",
          "text": [
            "['info@example.com', 'support123@company.org']\n"
          ]
        }
      ]
    },
    {
      "cell_type": "code",
      "source": [
        "import re\n",
        "def extract_all(text):\n",
        "    emails = re.findall(r'[a-zA-Z0-9._%+-]+@[a-zA-Z0-9.-]+\\.[a-zA-Z]{2,}', text)\n",
        "    hashtags = re.findall(r'#\\w+', text)\n",
        "    numbers = re.findall(r'\\d+', text)\n",
        "    clean_text = re.sub(r'\\w+',' ', text)\n",
        "    return emails, hashtags, numbers, clean_text\n",
        "text = \"\"\"\n",
        "Hello world! Contact us at info@example.com or support123@company.org Follow us on social media: #AI #MachineLearning.\n",
        "Visit <a href=\"http://example.com\">our website</a> for more details. This is a test with number 1234.\n",
        "\"\"\"\n",
        "emails, hashtags, numbers, clean_text = extract_all(text)\n",
        "print(\"Emails:\", emails)\n",
        "print(\"Hashtags:\", hashtags)\n",
        "print(\"Numbers:\", numbers)\n",
        "print(\"Cleaned Text:\", clean_text)"
      ],
      "metadata": {
        "colab": {
          "base_uri": "https://localhost:8080/"
        },
        "id": "R0NVbNZ-JEwk",
        "outputId": "f5cc2ae5-abd0-4a4b-d24f-9daa38772440"
      },
      "execution_count": 71,
      "outputs": [
        {
          "output_type": "stream",
          "name": "stdout",
          "text": [
            "Emails: ['info@example.com', 'support123@company.org']\n",
            "Hashtags: ['#AI', '#MachineLearning']\n",
            "Numbers: ['123', '1234']\n",
            "Cleaned Text: \n",
            "   !        @ .     @ .           : #  # .\n",
            "  <   =\" :// . \">   </ >      .              .\n",
            "\n"
          ]
        }
      ]
    },
    {
      "cell_type": "code",
      "source": [],
      "metadata": {
        "id": "6_mq4zYBMzmC"
      },
      "execution_count": null,
      "outputs": []
    }
  ]
}
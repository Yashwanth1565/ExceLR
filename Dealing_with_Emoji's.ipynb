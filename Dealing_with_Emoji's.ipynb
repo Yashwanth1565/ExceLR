{
  "nbformat": 4,
  "nbformat_minor": 0,
  "metadata": {
    "colab": {
      "provenance": [],
      "authorship_tag": "ABX9TyONfIwts1L9cc3YvgW2b7Oo",
      "include_colab_link": true
    },
    "kernelspec": {
      "name": "python3",
      "display_name": "Python 3"
    },
    "language_info": {
      "name": "python"
    }
  },
  "cells": [
    {
      "cell_type": "markdown",
      "metadata": {
        "id": "view-in-github",
        "colab_type": "text"
      },
      "source": [
        "<a href=\"https://colab.research.google.com/github/Yashwanth1565/ExceLR/blob/main/Dealing_with_Emoji's.ipynb\" target=\"_parent\"><img src=\"https://colab.research.google.com/assets/colab-badge.svg\" alt=\"Open In Colab\"/></a>"
      ]
    },
    {
      "cell_type": "code",
      "execution_count": 1,
      "metadata": {
        "id": "_ESoEWiCctan"
      },
      "outputs": [],
      "source": [
        "### Emojis"
      ]
    },
    {
      "cell_type": "code",
      "source": [
        "### Emoticons: The emojis which are used to represent the human feelings with the help of keyboard..."
      ],
      "metadata": {
        "id": "LWe40oDDc5J_"
      },
      "execution_count": 2,
      "outputs": []
    },
    {
      "cell_type": "code",
      "source": [
        "text1=\"What are you saying 😂.Iam the boss 😎 and Why are so 😒\"\n"
      ],
      "metadata": {
        "id": "Sdui3ApjdEPL"
      },
      "execution_count": 16,
      "outputs": []
    },
    {
      "cell_type": "code",
      "source": [
        "import re\n",
        "from emot.emo_unicode import UNICODE_EMOJI\n",
        "from emot.emo_unicode import EMOTICONS_EMO"
      ],
      "metadata": {
        "id": "SwBq38Bgdywr"
      },
      "execution_count": 7,
      "outputs": []
    },
    {
      "cell_type": "code",
      "source": [
        "!pip install emot"
      ],
      "metadata": {
        "colab": {
          "base_uri": "https://localhost:8080/"
        },
        "id": "Sg2YzXYqdzrB",
        "outputId": "25653ec5-1875-4e38-d30a-e217b3a1488c"
      },
      "execution_count": 6,
      "outputs": [
        {
          "output_type": "stream",
          "name": "stdout",
          "text": [
            "Collecting emot\n",
            "  Downloading emot-3.1-py3-none-any.whl.metadata (396 bytes)\n",
            "Downloading emot-3.1-py3-none-any.whl (61 kB)\n",
            "\u001b[?25l   \u001b[90m━━━━━━━━━━━━━━━━━━━━━━━━━━━━━━━━━━━━━━━━\u001b[0m \u001b[32m0.0/61.5 kB\u001b[0m \u001b[31m?\u001b[0m eta \u001b[36m-:--:--\u001b[0m\r\u001b[2K   \u001b[90m━━━━━━━━━━━━━━━━━━━━━━━━━━━━━━━━━━━━━━━━\u001b[0m \u001b[32m61.5/61.5 kB\u001b[0m \u001b[31m3.6 MB/s\u001b[0m eta \u001b[36m0:00:00\u001b[0m\n",
            "\u001b[?25hInstalling collected packages: emot\n",
            "Successfully installed emot-3.1\n"
          ]
        }
      ]
    },
    {
      "cell_type": "code",
      "source": [
        "def converting_emojis(text):\n",
        "  for emot in UNICODE_EMOJI:\n",
        "    #text=text.replace(emot,\"_\".join(UNICODE_EMOJI[emot].replace(\",\",).replace(\":\",\"\").split()))\n",
        "    text=text.replace(emot,\"_\".join(UNICODE_EMOJI[emot].replace(\",\",\"\").replace(\":\",\"\").split()))\n",
        "    #text=text.replace(emot,\"_\".join(UNICODE_EMOJI[emot].replace(\",\",).replace(\":\",\"\").split()))\n",
        "  return text\n"
      ],
      "metadata": {
        "id": "ND4jp1P9dzn0"
      },
      "execution_count": 24,
      "outputs": []
    },
    {
      "cell_type": "code",
      "source": [
        "converting_emojis(text1)"
      ],
      "metadata": {
        "colab": {
          "base_uri": "https://localhost:8080/",
          "height": 36
        },
        "id": "ei-fTVqWdzmR",
        "outputId": "53fc669d-43d3-427d-8c30-a7d5581724ef"
      },
      "execution_count": 25,
      "outputs": [
        {
          "output_type": "execute_result",
          "data": {
            "text/plain": [
              "'What are you saying face_with_tears_of_joy.Iam the boss smiling_face_with_sunglasses and Why are so unamused_face'"
            ],
            "application/vnd.google.colaboratory.intrinsic+json": {
              "type": "string"
            }
          },
          "metadata": {},
          "execution_count": 25
        }
      ]
    },
    {
      "cell_type": "code",
      "source": [
        "def emoji_removal(string):\n",
        "  emoji_unicodes=re.complie(\"[\"\n",
        "  u\"\\ U0001F600-U0001F64F\"\n",
        "  U\"\\U0001F400-\\U0001F4FF\"\n",
        "  u\"\\U0001F32D-\\U0001F37F\"\n",
        "  u\"\\U0001F680-\\U0001F6FF\"\n",
        "  u\"\\U0001F4A0-\\U0001F4FF\"\n",
        "  u\"\\U0001F500-\\U0001F5FF\"\n",
        "  u\"\\U0001F1E6-\\U0001F1FF\"\n",
        "  \"]\")"
      ],
      "metadata": {
        "id": "mPq0WwAjdzjj"
      },
      "execution_count": 26,
      "outputs": []
    },
    {
      "cell_type": "code",
      "source": [],
      "metadata": {
        "id": "Ejpddbdkdzh0"
      },
      "execution_count": null,
      "outputs": []
    }
  ]
}
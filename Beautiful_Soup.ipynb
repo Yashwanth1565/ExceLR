{
  "nbformat": 4,
  "nbformat_minor": 0,
  "metadata": {
    "colab": {
      "provenance": [],
      "authorship_tag": "ABX9TyOtjYNfvZk5rZzD2IWVLDrR",
      "include_colab_link": true
    },
    "kernelspec": {
      "name": "python3",
      "display_name": "Python 3"
    },
    "language_info": {
      "name": "python"
    }
  },
  "cells": [
    {
      "cell_type": "markdown",
      "metadata": {
        "id": "view-in-github",
        "colab_type": "text"
      },
      "source": [
        "<a href=\"https://colab.research.google.com/github/Yashwanth1565/ExceLR/blob/main/Beautiful_Soup.ipynb\" target=\"_parent\"><img src=\"https://colab.research.google.com/assets/colab-badge.svg\" alt=\"Open In Colab\"/></a>"
      ]
    },
    {
      "cell_type": "code",
      "execution_count": null,
      "metadata": {
        "id": "Ey3vD-MGduXN"
      },
      "outputs": [],
      "source": []
    },
    {
      "cell_type": "markdown",
      "source": [
        "**Web Scappping** Extracting the elements of any HTML content in the web\n"
      ],
      "metadata": {
        "id": "jZdYU-s5d8m8"
      }
    },
    {
      "cell_type": "code",
      "source": [
        "!pip install requests beautifulsoup4"
      ],
      "metadata": {
        "colab": {
          "base_uri": "https://localhost:8080/"
        },
        "id": "FkWTp14wdzYx",
        "outputId": "594cc5b1-398e-4f85-a8ab-2c08d4c8d4fa"
      },
      "execution_count": 1,
      "outputs": [
        {
          "output_type": "stream",
          "name": "stdout",
          "text": [
            "Requirement already satisfied: requests in /usr/local/lib/python3.11/dist-packages (2.32.3)\n",
            "Requirement already satisfied: beautifulsoup4 in /usr/local/lib/python3.11/dist-packages (4.13.3)\n",
            "Requirement already satisfied: charset-normalizer<4,>=2 in /usr/local/lib/python3.11/dist-packages (from requests) (3.4.1)\n",
            "Requirement already satisfied: idna<4,>=2.5 in /usr/local/lib/python3.11/dist-packages (from requests) (3.10)\n",
            "Requirement already satisfied: urllib3<3,>=1.21.1 in /usr/local/lib/python3.11/dist-packages (from requests) (2.3.0)\n",
            "Requirement already satisfied: certifi>=2017.4.17 in /usr/local/lib/python3.11/dist-packages (from requests) (2025.1.31)\n",
            "Requirement already satisfied: soupsieve>1.2 in /usr/local/lib/python3.11/dist-packages (from beautifulsoup4) (2.6)\n",
            "Requirement already satisfied: typing-extensions>=4.0.0 in /usr/local/lib/python3.11/dist-packages (from beautifulsoup4) (4.12.2)\n"
          ]
        }
      ]
    },
    {
      "cell_type": "code",
      "source": [
        "#Scarping quotes from site(quotes.toscrape.com)"
      ],
      "metadata": {
        "id": "1uNKSAgEdza0"
      },
      "execution_count": 2,
      "outputs": []
    },
    {
      "cell_type": "code",
      "source": [
        "import requests\n",
        "from bs4 import BeautifulSoup\n",
        "url=\"http://quotes.toscrape.com/\"\n",
        "response=requests.get(url)\n",
        "if response.status_code==200:\n",
        "  soup=BeautifulSoup(response.text,\"html.parser\")\n",
        "  quotes=soup.find_all(\"div\",class_=\"quote\")\n",
        "  for quote in quotes:\n",
        "    text=quote.find(\"span\",class_=\"text\").text\n",
        "    author=quote.find(\"small\",class_=\"author\").text\n",
        "    tags=[tag.text for tag in quote.find_all(\"a\",class_=\"tag\")]\n",
        "    print(f\"Quote:{text}\\nAuthor:{author}\\nTags:{', '.join(tags)}\\n\")\n",
        "    #print(f\"Failed to retrieve the webpage. Status Code:{response.Status_code}\")\n"
      ],
      "metadata": {
        "colab": {
          "base_uri": "https://localhost:8080/"
        },
        "id": "2j-zBteYdzeB",
        "outputId": "ffc6a27c-ebc7-461a-a695-a827ea215af8"
      },
      "execution_count": 16,
      "outputs": [
        {
          "output_type": "stream",
          "name": "stdout",
          "text": [
            "Quote:“The world as we have created it is a process of our thinking. It cannot be changed without changing our thinking.”\n",
            "Author:Albert Einstein\n",
            "Tags:change, deep-thoughts, thinking, world\n",
            "\n",
            "Quote:“It is our choices, Harry, that show what we truly are, far more than our abilities.”\n",
            "Author:J.K. Rowling\n",
            "Tags:abilities, choices\n",
            "\n",
            "Quote:“There are only two ways to live your life. One is as though nothing is a miracle. The other is as though everything is a miracle.”\n",
            "Author:Albert Einstein\n",
            "Tags:inspirational, life, live, miracle, miracles\n",
            "\n",
            "Quote:“The person, be it gentleman or lady, who has not pleasure in a good novel, must be intolerably stupid.”\n",
            "Author:Jane Austen\n",
            "Tags:aliteracy, books, classic, humor\n",
            "\n",
            "Quote:“Imperfection is beauty, madness is genius and it's better to be absolutely ridiculous than absolutely boring.”\n",
            "Author:Marilyn Monroe\n",
            "Tags:be-yourself, inspirational\n",
            "\n",
            "Quote:“Try not to become a man of success. Rather become a man of value.”\n",
            "Author:Albert Einstein\n",
            "Tags:adulthood, success, value\n",
            "\n",
            "Quote:“It is better to be hated for what you are than to be loved for what you are not.”\n",
            "Author:André Gide\n",
            "Tags:life, love\n",
            "\n",
            "Quote:“I have not failed. I've just found 10,000 ways that won't work.”\n",
            "Author:Thomas A. Edison\n",
            "Tags:edison, failure, inspirational, paraphrased\n",
            "\n",
            "Quote:“A woman is like a tea bag; you never know how strong it is until it's in hot water.”\n",
            "Author:Eleanor Roosevelt\n",
            "Tags:misattributed-eleanor-roosevelt\n",
            "\n",
            "Quote:“A day without sunshine is like, you know, night.”\n",
            "Author:Steve Martin\n",
            "Tags:humor, obvious, simile\n",
            "\n"
          ]
        }
      ]
    },
    {
      "source": [
        "import requests\n",
        "from bs4 import BeautifulSoup\n",
        "url=\"http://quotes.toscrape.com/\"\n",
        "response=requests.get(url)\n",
        "if response.status_code==200:\n",
        "  soup=BeautifulSoup(response.text,\"html.parser\")\n",
        "  quotes=soup.find_all(\"div\",class_=\"quote\")\n",
        "  for quote in quotes:\n",
        "    text=quote.find(\"span\",class_=\"text\").text\n",
        "    author=quote.find(\"small\",class_=\"author\").text\n",
        "    tags=[tag.text for tag in quote.find_all(\"a\",class_=\"tag\")]\n",
        "    print(f\"Quote:{text}\\nAuthor:{author}\\nTags:{', '.join(tags)}\\n\")\n",
        "    # Changed 'Status_code' to 'status_code' to match the correct attribute name\n",
        "    print(f\"Failed to retrieve the webpage. Status Code:{response.status_code}\")"
      ],
      "cell_type": "code",
      "metadata": {
        "colab": {
          "base_uri": "https://localhost:8080/"
        },
        "id": "i-jxA0E9gbIm",
        "outputId": "7359088e-bfcd-444e-dbf9-4237e0d17c5a"
      },
      "execution_count": 17,
      "outputs": [
        {
          "output_type": "stream",
          "name": "stdout",
          "text": [
            "Quote:“The world as we have created it is a process of our thinking. It cannot be changed without changing our thinking.”\n",
            "Author:Albert Einstein\n",
            "Tags:change, deep-thoughts, thinking, world\n",
            "\n",
            "Failed to retrieve the webpage. Status Code:200\n",
            "Quote:“It is our choices, Harry, that show what we truly are, far more than our abilities.”\n",
            "Author:J.K. Rowling\n",
            "Tags:abilities, choices\n",
            "\n",
            "Failed to retrieve the webpage. Status Code:200\n",
            "Quote:“There are only two ways to live your life. One is as though nothing is a miracle. The other is as though everything is a miracle.”\n",
            "Author:Albert Einstein\n",
            "Tags:inspirational, life, live, miracle, miracles\n",
            "\n",
            "Failed to retrieve the webpage. Status Code:200\n",
            "Quote:“The person, be it gentleman or lady, who has not pleasure in a good novel, must be intolerably stupid.”\n",
            "Author:Jane Austen\n",
            "Tags:aliteracy, books, classic, humor\n",
            "\n",
            "Failed to retrieve the webpage. Status Code:200\n",
            "Quote:“Imperfection is beauty, madness is genius and it's better to be absolutely ridiculous than absolutely boring.”\n",
            "Author:Marilyn Monroe\n",
            "Tags:be-yourself, inspirational\n",
            "\n",
            "Failed to retrieve the webpage. Status Code:200\n",
            "Quote:“Try not to become a man of success. Rather become a man of value.”\n",
            "Author:Albert Einstein\n",
            "Tags:adulthood, success, value\n",
            "\n",
            "Failed to retrieve the webpage. Status Code:200\n",
            "Quote:“It is better to be hated for what you are than to be loved for what you are not.”\n",
            "Author:André Gide\n",
            "Tags:life, love\n",
            "\n",
            "Failed to retrieve the webpage. Status Code:200\n",
            "Quote:“I have not failed. I've just found 10,000 ways that won't work.”\n",
            "Author:Thomas A. Edison\n",
            "Tags:edison, failure, inspirational, paraphrased\n",
            "\n",
            "Failed to retrieve the webpage. Status Code:200\n",
            "Quote:“A woman is like a tea bag; you never know how strong it is until it's in hot water.”\n",
            "Author:Eleanor Roosevelt\n",
            "Tags:misattributed-eleanor-roosevelt\n",
            "\n",
            "Failed to retrieve the webpage. Status Code:200\n",
            "Quote:“A day without sunshine is like, you know, night.”\n",
            "Author:Steve Martin\n",
            "Tags:humor, obvious, simile\n",
            "\n",
            "Failed to retrieve the webpage. Status Code:200\n"
          ]
        }
      ]
    },
    {
      "cell_type": "code",
      "source": [
        "import requests\n",
        "from bs4 import BeautifulSoup\n",
        "city=\"india/hyderabad\"\n",
        "utl=f\"https://www.timeanddate.com/worldclock/city\"\n",
        "response=requests.get(url)\n",
        "soup=BeautifulSoup(response.text,\"html.parser\")\n",
        "\n",
        "temp=soup.find(\"div\",class_=\"h2\").text.strip() if soup.find(\"div\",class_=\"h2\") else \"Not found\"\n",
        "print(f\"Temperature in {city}:{temp}\")\n",
        "desc=soup.find(\"p\").text.strip() if soup.find(\"p\") else \"Not found\"\n",
        "print(f\"Description:{desc}\")\n",
        "\n",
        "print(f\"Current Weather in Hyderbad: {temp} | {desc}\")"
      ],
      "metadata": {
        "colab": {
          "base_uri": "https://localhost:8080/"
        },
        "id": "bvm2bCjidzgO",
        "outputId": "d200a058-8b94-4a10-e2e2-58a1043d26ac"
      },
      "execution_count": 18,
      "outputs": [
        {
          "output_type": "stream",
          "name": "stdout",
          "text": [
            "Temperature in india/hyderabad:Not found\n",
            "Description:Login\n",
            "Current Weather in Hyderbad: Not found | Login\n"
          ]
        }
      ]
    },
    {
      "cell_type": "code",
      "source": [
        "## Amazon Bot"
      ],
      "metadata": {
        "id": "Y_Ftxws_dzkA"
      },
      "execution_count": 12,
      "outputs": []
    },
    {
      "cell_type": "code",
      "source": [
        "import requests\n",
        "from bs4 import BeautifulSoup\n",
        "\n",
        "url=\"https://www.amazon.in/dp/B0DGJ7TGDR?th=1\"\n",
        "\n",
        "response=requests.get(url)\n",
        "soup=BeautifulSoup(response.text,\"html.parser\")\n",
        "#product=soup.select_one(\"span.a-size-medium\")\n",
        "price=soup.select_one(\"span.a-price-whole\")\n",
        "if price:\n",
        "  #print(f\"Product Name:{product.text.strip()}\")\n",
        "  print(f\"Price:{price.text.strip()}\")\n",
        "else:\n",
        "  print(\"Product not found\")\n"
      ],
      "metadata": {
        "colab": {
          "base_uri": "https://localhost:8080/"
        },
        "id": "tdR32Oj-dz0w",
        "outputId": "70ebb8c9-81af-4bbb-bac2-37161d00dc71"
      },
      "execution_count": 33,
      "outputs": [
        {
          "output_type": "stream",
          "name": "stdout",
          "text": [
            "Product not found\n"
          ]
        }
      ]
    },
    {
      "cell_type": "code",
      "source": [
        "import requests\n",
        "from bs4 import BeautifulSoup\n",
        "search_url=\"https://www.amazon.in/s?k=iphone&crid=3772G8BOOI9N4&sprefix=iphone%2Caps%2C217&ref=nb_sb_noss_2\"\n",
        "headers={\n",
        "    \"User-Agent\": \"Mozilla/5.0(Windows Nt 10.0; Win64; x64)AppleWebKit/537,36(KHTML,like Gecko) Chrome/91.0.4472.124 Safari/537.36\"\n",
        "}\n",
        "response=requests.get(search_url,headers=headers)\n",
        "soup=BeautifulSoup(response.text,\"html.parser\")\n",
        "product=soup.select_one(\"span.a-size-medium\")\n",
        "price=soup.select_one(\"span.a-price-whole\")\n",
        "if product and price:\n",
        "  print(f\"Product: {product.text.strip()}\")\n",
        "  print(f\"Price: Rs.{price.text.strip()}\")\n",
        "else:\n",
        "  print(\"Could not find product details.\")"
      ],
      "metadata": {
        "colab": {
          "base_uri": "https://localhost:8080/"
        },
        "id": "blNv7tNMjEbo",
        "outputId": "17767079-0382-49c9-d576-c4401990c95e"
      },
      "execution_count": 40,
      "outputs": [
        {
          "output_type": "stream",
          "name": "stdout",
          "text": [
            "Could not find product details.\n"
          ]
        }
      ]
    },
    {
      "cell_type": "code",
      "source": [
        "import requests\n",
        "from bs4 import BeautifulSoup\n",
        "url=\"https://en.wikipedia.org/wiki/List_of_countries_and_dependencies_by_population\"\n",
        "response=requests.get(url)\n",
        "soup=BeautifulSoup(response.text,\"html.parser\")\n",
        "table=soup.find(\"table\",class_=\"wikitable\")\n",
        "for row in table.find_all(\"tr\")[1:6]:\n",
        "  cells=row.find_all(\"td\")\n",
        "  country=cells[1].text.strip()\n",
        "  population=cells[2].text.strip()\n",
        "  print(f\"Country:{country}\\nPopulation:{population}\\n\")"
      ],
      "metadata": {
        "colab": {
          "base_uri": "https://localhost:8080/"
        },
        "id": "Offyb0kdjEdX",
        "outputId": "c08e83d2-fef6-417d-97d8-423547e056f5"
      },
      "execution_count": 38,
      "outputs": [
        {
          "output_type": "stream",
          "name": "stdout",
          "text": [
            "Country:World\n",
            "Population:8,119,000,000\n",
            "\n",
            "Country:China\n",
            "Population:1,408,280,000\n",
            "\n",
            "Country:1,402,737,000\n",
            "Population:17.2%\n",
            "\n",
            "Country:United States\n",
            "Population:340,110,988\n",
            "\n",
            "Country:Indonesia\n",
            "Population:282,477,584\n",
            "\n"
          ]
        }
      ]
    },
    {
      "cell_type": "code",
      "source": [
        "from IPython.display import display,HTML"
      ],
      "metadata": {
        "id": "VClhz40_jEgF"
      },
      "execution_count": 47,
      "outputs": []
    },
    {
      "cell_type": "code",
      "source": [
        "display(HTML(\"\"\"\n",
        "<!DOCTYPE html>\n",
        "<html>\n",
        "<head>\n",
        "<title>Page Title</title>\n",
        "</head>\n",
        "<body>\n",
        "\n",
        "<h1>This is a Heading</h1>\n",
        "<p>This is a paragraph.</p>\n",
        "<font color=\"blue\">This is a font tag</font>\n",
        "\n",
        "</body>\n",
        "</html>\n",
        "\n",
        "\n",
        "\"\"\"))"
      ],
      "metadata": {
        "colab": {
          "base_uri": "https://localhost:8080/",
          "height": 117
        },
        "id": "GP3lOSjVjEhr",
        "outputId": "e72e5f1e-1a01-4e3f-de65-1de6f4913be9"
      },
      "execution_count": 50,
      "outputs": [
        {
          "output_type": "display_data",
          "data": {
            "text/plain": [
              "<IPython.core.display.HTML object>"
            ],
            "text/html": [
              "\n",
              "<!DOCTYPE html>\n",
              "<html>\n",
              "<head>\n",
              "<title>Page Title</title>\n",
              "</head>\n",
              "<body>\n",
              "\n",
              "<h1>This is a Heading</h1>\n",
              "<p>This is a paragraph.</p>\n",
              "<font color=\"blue\">This is a font tag</font>\n",
              "\n",
              "</body>\n",
              "</html>\n",
              "\n",
              "\n"
            ]
          },
          "metadata": {}
        }
      ]
    },
    {
      "cell_type": "code",
      "source": [],
      "metadata": {
        "id": "tZEEuDnEjElg"
      },
      "execution_count": 41,
      "outputs": []
    }
  ]
}